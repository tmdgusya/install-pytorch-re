{
  "nbformat": 4,
  "nbformat_minor": 0,
  "metadata": {
    "colab": {
      "provenance": [],
      "authorship_tag": "ABX9TyOqyZi1kWmsc0l/3PAVbJ7h",
      "include_colab_link": true
    },
    "kernelspec": {
      "name": "python3",
      "display_name": "Python 3"
    },
    "language_info": {
      "name": "python"
    }
  },
  "cells": [
    {
      "cell_type": "markdown",
      "metadata": {
        "id": "view-in-github",
        "colab_type": "text"
      },
      "source": [
        "<a href=\"https://colab.research.google.com/github/tmdgusya/install-pytorch-re/blob/main/torch_basic.ipynb\" target=\"_parent\"><img src=\"https://colab.research.google.com/assets/colab-badge.svg\" alt=\"Open In Colab\"/></a>"
      ]
    },
    {
      "cell_type": "code",
      "execution_count": 1,
      "metadata": {
        "id": "L_eGJHdg1wUe"
      },
      "outputs": [],
      "source": [
        "import torch"
      ]
    },
    {
      "cell_type": "code",
      "source": [
        "from torch import nn\n",
        "x = torch.tensor([1.])\n",
        "model = nn.Linear(1,1)\n",
        "print(model)\n",
        "\n",
        "print(model.weight)\n",
        "print(model.bias)\n",
        "\n",
        "y = model(x)\n",
        "print(y)\n",
        "\n",
        "y2 = x @ model.weight + model.bias\n",
        "print(y2)"
      ],
      "metadata": {
        "colab": {
          "base_uri": "https://localhost:8080/"
        },
        "id": "QMggmkO919jL",
        "outputId": "07e28fb9-0ca5-4349-956e-383cfd3c1880"
      },
      "execution_count": 3,
      "outputs": [
        {
          "output_type": "stream",
          "name": "stdout",
          "text": [
            "Linear(in_features=1, out_features=1, bias=True)\n",
            "Parameter containing:\n",
            "tensor([[-0.1756]], requires_grad=True)\n",
            "Parameter containing:\n",
            "tensor([-0.7085], requires_grad=True)\n",
            "tensor([-0.8841], grad_fn=<ViewBackward0>)\n",
            "tensor([-0.8841], grad_fn=<AddBackward0>)\n"
          ]
        }
      ]
    },
    {
      "cell_type": "code",
      "source": [
        "fc1 = nn.Linear(1,3)\n",
        "fc2 = nn.Linear(3,1)\n",
        "\n",
        "print(fc1.weight)\n",
        "print(fc1.bias)\n",
        "print(fc2.weight)\n",
        "print(fc2.bias)\n",
        "\n",
        "x = torch.tensor([1.])\n",
        "y2 = (x @ fc1.weight.T + fc1.bias) @ fc2.weight.T + fc2.bias\n",
        "print(y2)\n",
        "\n",
        "x"
      ],
      "metadata": {
        "colab": {
          "base_uri": "https://localhost:8080/"
        },
        "id": "lBZk3ELQ2tf4",
        "outputId": "9785537e-b5ad-4586-e4fd-1341bd3610e7"
      },
      "execution_count": 5,
      "outputs": [
        {
          "output_type": "stream",
          "name": "stdout",
          "text": [
            "Parameter containing:\n",
            "tensor([[0.7934],\n",
            "        [0.0055],\n",
            "        [0.7788]], requires_grad=True)\n",
            "Parameter containing:\n",
            "tensor([-0.8658, -0.1453,  0.6176], requires_grad=True)\n",
            "Parameter containing:\n",
            "tensor([[ 0.4597,  0.4598, -0.0211]], requires_grad=True)\n",
            "Parameter containing:\n",
            "tensor([-0.5773], requires_grad=True)\n",
            "tensor([-0.7044], grad_fn=<AddBackward0>)\n"
          ]
        },
        {
          "output_type": "execute_result",
          "data": {
            "text/plain": [
              "tensor([1.])"
            ]
          },
          "metadata": {},
          "execution_count": 5
        }
      ]
    },
    {
      "cell_type": "code",
      "source": [
        "x = torch.randn(5,2) # 다섯명의 키, 몸무게 데이터(한 행(채널)이 키, 몸무게) => 차원은 특정 정보를 표현. (그것이 묶음 일수도 있음)\n",
        "model = nn.Linear(2, 3)\n",
        "\n",
        "z = model(x)\n",
        "z.shape # 5,3\n",
        "\n",
        "x1 = torch.randn(4,5,2) # 4개 벌크로 넣기도 가능 위와 같이\n",
        "ux = torch.unsqueeze(x, dim=0)\n",
        "print(ux.shape) # 1,5,2 (더하기 위해 싱글 차원 추가 맨앞에)\n",
        "a = ux + x1\n",
        "a.shape"
      ],
      "metadata": {
        "colab": {
          "base_uri": "https://localhost:8080/"
        },
        "id": "3FHJyWTj4O-P",
        "outputId": "ac7f7405-6532-4f52-ccbf-bdc9aae10f3d"
      },
      "execution_count": 11,
      "outputs": [
        {
          "output_type": "stream",
          "name": "stdout",
          "text": [
            "torch.Size([1, 5, 2])\n"
          ]
        },
        {
          "output_type": "execute_result",
          "data": {
            "text/plain": [
              "torch.Size([4, 5, 2])"
            ]
          },
          "metadata": {},
          "execution_count": 11
        }
      ]
    }
  ]
}